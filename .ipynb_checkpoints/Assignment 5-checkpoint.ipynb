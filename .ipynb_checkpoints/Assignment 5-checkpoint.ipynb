{
 "cells": [
  {
   "cell_type": "code",
   "execution_count": 7,
   "id": "840e0cd7",
   "metadata": {},
   "outputs": [
    {
     "name": "stdout",
     "output_type": "stream",
     "text": [
      "['Alice', '21', 'A']\n",
      "['Charlie', '18', 'B']\n",
      "['David', '21', 'A']\n",
      "['Eve', '20', 'A']\n",
      "['George', '19', 'A']\n",
      "['Isla', '22', 'A']\n",
      "['Jack', '21', 'B']\n",
      "['David', '20', 'A']\n",
      "['Eve', '21', 'B']\n",
      "['Hannah', '19', 'B']\n",
      "['Isla', '19', 'B']\n",
      "['Eve', '20', 'B']\n",
      "['Fiona', '19', 'B']\n",
      "['Hannah', '19', 'B']\n",
      "['Isla', '19', 'B']\n",
      "['Alice', '19', 'B']\n",
      "['Bob', '20', 'B']\n",
      "['Eve', '19', 'A']\n",
      "['Eve', '22', 'A']\n",
      "['Fiona', '20', 'B']\n",
      "['Isla', '22', 'B']\n",
      "['Jack', '21', 'B']\n",
      "['Alice', '22', 'B']\n",
      "['Charlie', '21', 'A']\n",
      "['Eve', '19', 'A']\n",
      "['Hannah', '20', 'B']\n",
      "['Isla', '18', 'A']\n",
      "['Fiona', '22', 'A']\n",
      "['Isla', '20', 'B']\n",
      "['Alice', '22', 'A']\n",
      "['David', '18', 'A']\n",
      "['Fiona', '19', 'A']\n",
      "['Hannah', '19', 'B']\n",
      "['Jack', '22', 'B']\n",
      "['Alice', '19', 'A']\n",
      "['Charlie', '19', 'A']\n",
      "['Eve', '19', 'B']\n",
      "['George', '22', 'A']\n",
      "['Alice', '18', 'A']\n",
      "['Bob', '19', 'B']\n",
      "['David', '22', 'A']\n"
     ]
    }
   ],
   "source": [
    "import csv\n",
    "with open('students.csv', 'r') as file:\n",
    "    \n",
    "    csv_reader = csv.reader(file)\n",
    "    \n",
    "    for row in csv_reader:\n",
    "        if row[2] <= 'B':\n",
    "            print(row)"
   ]
  },
  {
   "cell_type": "code",
   "execution_count": 11,
   "id": "4738c0a1",
   "metadata": {},
   "outputs": [
    {
     "name": "stdout",
     "output_type": "stream",
     "text": [
      "['Alice', '21', 'A', 'Passed']\n",
      "['Charlie', '18', 'B', 'Passed']\n",
      "['David', '21', 'A', 'Passed']\n",
      "['Eve', '20', 'A', 'Passed']\n",
      "['George', '19', 'A', 'Passed']\n",
      "['Isla', '22', 'A', 'Passed']\n",
      "['Jack', '21', 'B', 'Passed']\n",
      "['David', '20', 'A', 'Passed']\n",
      "['Eve', '21', 'B', 'Passed']\n",
      "['Hannah', '19', 'B', 'Passed']\n",
      "['Isla', '19', 'B', 'Passed']\n",
      "['Eve', '20', 'B', 'Passed']\n",
      "['Fiona', '19', 'B', 'Passed']\n",
      "['Hannah', '19', 'B', 'Passed']\n",
      "['Isla', '19', 'B', 'Passed']\n",
      "['Alice', '19', 'B', 'Passed']\n",
      "['Bob', '20', 'B', 'Passed']\n",
      "['Eve', '19', 'A', 'Passed']\n",
      "['Eve', '22', 'A', 'Passed']\n",
      "['Fiona', '20', 'B', 'Passed']\n",
      "['Isla', '22', 'B', 'Passed']\n",
      "['Jack', '21', 'B', 'Passed']\n",
      "['Alice', '22', 'B', 'Passed']\n",
      "['Charlie', '21', 'A', 'Passed']\n",
      "['Eve', '19', 'A', 'Passed']\n",
      "['Hannah', '20', 'B', 'Passed']\n",
      "['Isla', '18', 'A', 'Passed']\n",
      "['Fiona', '22', 'A', 'Passed']\n",
      "['Isla', '20', 'B', 'Passed']\n",
      "['Alice', '22', 'A', 'Passed']\n",
      "['David', '18', 'A', 'Passed']\n",
      "['Fiona', '19', 'A', 'Passed']\n",
      "['Hannah', '19', 'B', 'Passed']\n",
      "['Jack', '22', 'B', 'Passed']\n",
      "['Alice', '19', 'A', 'Passed']\n",
      "['Charlie', '19', 'A', 'Passed']\n",
      "['Eve', '19', 'B', 'Passed']\n",
      "['George', '22', 'A', 'Passed']\n",
      "['Alice', '18', 'A', 'Passed']\n",
      "['Bob', '19', 'B', 'Passed']\n",
      "['David', '22', 'A', 'Passed']\n"
     ]
    }
   ],
   "source": [
    "import csv\n",
    "with open('students.csv', 'r') as file:\n",
    "    \n",
    "    csv_reader = csv.reader(file)\n",
    "    \n",
    "    for row in csv_reader:\n",
    "        if row[2] <= 'B':\n",
    "             row.append('Passed')\n",
    "             print(row)"
   ]
  },
  {
   "cell_type": "code",
   "execution_count": 14,
   "id": "fc006f27",
   "metadata": {},
   "outputs": [],
   "source": [
    "with open('students.csv', 'r') as file:\n",
    "    csv_reader = csv.reader(file)\n",
    "    filtered_rows = []\n",
    "    \n",
    "    for row in csv_reader:\n",
    "        if row[2] <= 'B':\n",
    "            row.append('Passed')\n",
    "            filtered_rows.append(row)\n",
    "with open('top_students.csv', 'w', newline='') as new_file:\n",
    "    csv_writer = csv.writer(new_file)\n",
    "    csv_writer.writerows(filtered_rows)"
   ]
  },
  {
   "cell_type": "code",
   "execution_count": 27,
   "id": "5ae5319d",
   "metadata": {},
   "outputs": [
    {
     "name": "stdout",
     "output_type": "stream",
     "text": [
      "Enter the name of a state in Malaysia: Johor\n",
      "The population of Johor is 3794000\n"
     ]
    }
   ],
   "source": [
    "import requests\n",
    "\n",
    "api_url = \"https://jian.sh/malaysia-api/state/v1/all.json\"\n",
    "response = requests.get(api_url)\n",
    "malaysia_state_data = response.json()\n",
    "\n",
    "state_populations = {state['state']: state['population'] for state in malaysia_state_data}\n",
    "\n",
    "state_name = input(\"Enter the name of a state in Malaysia: \")\n",
    "\n",
    "population = state_populations.get(state_name.title())\n",
    "\n",
    "if population is not None:\n",
    "    print(f\"The population of {state_name.title()} is {population}\")\n",
    "else:\n",
    "    print(f\"{state_name} is not found in the data.\")"
   ]
  },
  {
   "cell_type": "code",
   "execution_count": 28,
   "id": "5326836f",
   "metadata": {},
   "outputs": [
    {
     "name": "stdout",
     "output_type": "stream",
     "text": [
      "Enter the name of a state in Malaysia: fvo\n",
      "fvo is not found in the data.\n"
     ]
    }
   ],
   "source": [
    "import requests\n",
    "\n",
    "api_url = \"https://jian.sh/malaysia-api/state/v1/all.json\"\n",
    "response = requests.get(api_url)\n",
    "malaysia_state_data = response.json()\n",
    "\n",
    "state_populations = {state['state']: state['population'] for state in malaysia_state_data}\n",
    "\n",
    "state_name = input(\"Enter the name of a state in Malaysia: \")\n",
    "\n",
    "population = state_populations.get(state_name.title())\n",
    "\n",
    "if population is not None:\n",
    "    print(f\"The population of {state_name.title()} is {population}\")\n",
    "else:\n",
    "    print(f\"{state_name} is not found in the data.\")"
   ]
  },
  {
   "cell_type": "code",
   "execution_count": null,
   "id": "4e27e7ab",
   "metadata": {},
   "outputs": [],
   "source": []
  }
 ],
 "metadata": {
  "kernelspec": {
   "display_name": "Python 3 (ipykernel)",
   "language": "python",
   "name": "python3"
  },
  "language_info": {
   "codemirror_mode": {
    "name": "ipython",
    "version": 3
   },
   "file_extension": ".py",
   "mimetype": "text/x-python",
   "name": "python",
   "nbconvert_exporter": "python",
   "pygments_lexer": "ipython3",
   "version": "3.11.5"
  }
 },
 "nbformat": 4,
 "nbformat_minor": 5
}
