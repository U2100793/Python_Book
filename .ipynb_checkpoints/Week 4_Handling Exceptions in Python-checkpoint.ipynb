{
 "cells": [
  {
   "cell_type": "code",
   "execution_count": 9,
   "id": "2f641036",
   "metadata": {},
   "outputs": [
    {
     "ename": "KeyboardInterrupt",
     "evalue": "Interrupted by user",
     "output_type": "error",
     "traceback": [
      "\u001b[1;31m---------------------------------------------------------------------------\u001b[0m",
      "\u001b[1;31mKeyboardInterrupt\u001b[0m                         Traceback (most recent call last)",
      "Cell \u001b[1;32mIn[9], line 14\u001b[0m\n\u001b[0;32m      1\u001b[0m \u001b[38;5;66;03m#Introduction to Python Exceptions\u001b[39;00m\n\u001b[0;32m      2\u001b[0m \u001b[38;5;66;03m#An exception is an event that occurs during the execution of a program that\u001b[39;00m\n\u001b[0;32m      3\u001b[0m \u001b[38;5;66;03m#disrupts the normal flow of instructions.\u001b[39;00m\n\u001b[1;32m   (...)\u001b[0m\n\u001b[0;32m     11\u001b[0m \n\u001b[0;32m     12\u001b[0m \u001b[38;5;66;03m#Example\u001b[39;00m\n\u001b[1;32m---> 14\u001b[0m number \u001b[38;5;241m=\u001b[39m \u001b[38;5;28mint\u001b[39m(\u001b[38;5;28minput\u001b[39m(\u001b[38;5;124m\"\u001b[39m\u001b[38;5;124mEnter a number: \u001b[39m\u001b[38;5;124m\"\u001b[39m))\n",
      "File \u001b[1;32m~\\anaconda3\\Lib\\site-packages\\ipykernel\\kernelbase.py:1202\u001b[0m, in \u001b[0;36mKernel.raw_input\u001b[1;34m(self, prompt)\u001b[0m\n\u001b[0;32m   1200\u001b[0m     msg \u001b[38;5;241m=\u001b[39m \u001b[38;5;124m\"\u001b[39m\u001b[38;5;124mraw_input was called, but this frontend does not support input requests.\u001b[39m\u001b[38;5;124m\"\u001b[39m\n\u001b[0;32m   1201\u001b[0m     \u001b[38;5;28;01mraise\u001b[39;00m StdinNotImplementedError(msg)\n\u001b[1;32m-> 1202\u001b[0m \u001b[38;5;28;01mreturn\u001b[39;00m \u001b[38;5;28mself\u001b[39m\u001b[38;5;241m.\u001b[39m_input_request(\n\u001b[0;32m   1203\u001b[0m     \u001b[38;5;28mstr\u001b[39m(prompt),\n\u001b[0;32m   1204\u001b[0m     \u001b[38;5;28mself\u001b[39m\u001b[38;5;241m.\u001b[39m_parent_ident[\u001b[38;5;124m\"\u001b[39m\u001b[38;5;124mshell\u001b[39m\u001b[38;5;124m\"\u001b[39m],\n\u001b[0;32m   1205\u001b[0m     \u001b[38;5;28mself\u001b[39m\u001b[38;5;241m.\u001b[39mget_parent(\u001b[38;5;124m\"\u001b[39m\u001b[38;5;124mshell\u001b[39m\u001b[38;5;124m\"\u001b[39m),\n\u001b[0;32m   1206\u001b[0m     password\u001b[38;5;241m=\u001b[39m\u001b[38;5;28;01mFalse\u001b[39;00m,\n\u001b[0;32m   1207\u001b[0m )\n",
      "File \u001b[1;32m~\\anaconda3\\Lib\\site-packages\\ipykernel\\kernelbase.py:1245\u001b[0m, in \u001b[0;36mKernel._input_request\u001b[1;34m(self, prompt, ident, parent, password)\u001b[0m\n\u001b[0;32m   1242\u001b[0m \u001b[38;5;28;01mexcept\u001b[39;00m \u001b[38;5;167;01mKeyboardInterrupt\u001b[39;00m:\n\u001b[0;32m   1243\u001b[0m     \u001b[38;5;66;03m# re-raise KeyboardInterrupt, to truncate traceback\u001b[39;00m\n\u001b[0;32m   1244\u001b[0m     msg \u001b[38;5;241m=\u001b[39m \u001b[38;5;124m\"\u001b[39m\u001b[38;5;124mInterrupted by user\u001b[39m\u001b[38;5;124m\"\u001b[39m\n\u001b[1;32m-> 1245\u001b[0m     \u001b[38;5;28;01mraise\u001b[39;00m \u001b[38;5;167;01mKeyboardInterrupt\u001b[39;00m(msg) \u001b[38;5;28;01mfrom\u001b[39;00m \u001b[38;5;28;01mNone\u001b[39;00m\n\u001b[0;32m   1246\u001b[0m \u001b[38;5;28;01mexcept\u001b[39;00m \u001b[38;5;167;01mException\u001b[39;00m:\n\u001b[0;32m   1247\u001b[0m     \u001b[38;5;28mself\u001b[39m\u001b[38;5;241m.\u001b[39mlog\u001b[38;5;241m.\u001b[39mwarning(\u001b[38;5;124m\"\u001b[39m\u001b[38;5;124mInvalid Message:\u001b[39m\u001b[38;5;124m\"\u001b[39m, exc_info\u001b[38;5;241m=\u001b[39m\u001b[38;5;28;01mTrue\u001b[39;00m)\n",
      "\u001b[1;31mKeyboardInterrupt\u001b[0m: Interrupted by user"
     ]
    }
   ],
   "source": [
    "#Introduction to Python Exceptions\n",
    "#An exception is an event that occurs during the execution of a program that\n",
    "#disrupts the normal flow of instructions.\n",
    "#In Python, exceptions are triggered automatically on errors, or they can be \n",
    "#triggered and intercepted by your code.\n",
    "\n",
    "#Pengecualian ialah peristiwa yang berlaku semasa pelaksanaan program yang \n",
    "#mengganggu aliran biasa arahan.\n",
    "#Dalam Python, pengecualian dicetuskan secara automatik pada ralat, atau \n",
    "#ia boleh dicetuskan dan dipintas oleh kod anda.\n",
    "\n",
    "#Example\n",
    "\n",
    "number = int(input(\"Enter a number: \"))\n",
    "\n",
    "# If user enter a non-numerical value, ValueError occurs"
   ]
  },
  {
   "cell_type": "code",
   "execution_count": null,
   "id": "59f8ba9f",
   "metadata": {},
   "outputs": [],
   "source": [
    "#Enter a number: X\n",
    "---------------------------------------------------------------------------\n",
    "#ValueError                                Traceback (most recent call last)\n",
    "#Cell In[8], line 14\n",
    "#      1 #Introduction to Python Exceptions\n",
    "#      2 #An exception is an event that occurs during the execution of a program that\n",
    "#      3 #disrupts the normal flow of instructions.\n",
    "#   (...)\n",
    "#     11 \n",
    "#    12 #Example\n",
    "#---> 14 number = int(input(\"Enter a number: \"))\n",
    "\n",
    "# ValueError: invalid literal for int() with base 10: 'X"
   ]
  },
  {
   "cell_type": "code",
   "execution_count": 4,
   "id": "1815755d",
   "metadata": {},
   "outputs": [],
   "source": [
    "# After this error it will effect the entire software. The software will crash\n",
    "# so how to handle it. USE EXCEPTIONS"
   ]
  },
  {
   "cell_type": "code",
   "execution_count": 5,
   "id": "9ea5f109",
   "metadata": {},
   "outputs": [],
   "source": [
    "# Exceptions"
   ]
  },
  {
   "cell_type": "code",
   "execution_count": 6,
   "id": "85164c54",
   "metadata": {},
   "outputs": [],
   "source": [
    "#Common Types of Exceptions\n",
    "# ValueError: Occurs when a function receives an argument with the right type \n",
    "# but an inappropriate value.\n",
    "# Example: int('a') - Trying to convert a non-numeric string into an integer.\n",
    "\n",
    "# TypeError: Happens when an operation is performed on an object of an\n",
    "# inappropriate type.\n",
    "# Example: \"2\" + 2 - Attempting to add a string and an integer.\n",
    "\n",
    "# IndexError: Triggered when attempting to access an index that is out of the \n",
    "# range of a sequence (like a list).\n",
    "# you are asking for a position that are not exist on a list\n",
    "# Example: my_list = [1,2,3]; my_list[3] - Accessing a non-existent fourth\n",
    "# element in a three-element list.\n",
    "\n",
    "# KeyError: Occurs when a dictionary key is not found.\n",
    "# Example: my_dict = {'a': 1}; my_dict['b']\n",
    "\n",
    "# NameError: When an attempt is made to access a local or global name that is \n",
    "# not defined.\n",
    "# you are requiring a variable name that is not exist\n",
    "# Example: print(unknown_var)"
   ]
  },
  {
   "cell_type": "code",
   "execution_count": null,
   "id": "368fb171",
   "metadata": {},
   "outputs": [],
   "source": [
    "# How to handle this\n",
    "# Try-Except Block\n",
    "# How to handle exceptions?\n",
    "#Example:\n",
    "\n",
    "# try:\n",
    "#    number = int(input(\"Enter a number: \"))\n",
    "# except ValueError:\n",
    "#    print(\"That's not a number!\")\n"
   ]
  },
  {
   "cell_type": "code",
   "execution_count": null,
   "id": "e4613a2c",
   "metadata": {},
   "outputs": [],
   "source": [
    "# Example\n",
    "\n",
    "x = \"2\" + 2   # TypeError code"
   ]
  },
  {
   "cell_type": "code",
   "execution_count": 11,
   "id": "cf2bb28f",
   "metadata": {},
   "outputs": [],
   "source": [
    "#TypeError                                 Traceback (most recent call last)\n",
    "#Cell In[10], line 3\n",
    "#      1 # Example\n",
    "#----> 3 x = \"2\" + 2\n",
    "#\n",
    "#TypeError: can only concatenate str (not \"int\") to str"
   ]
  },
  {
   "cell_type": "code",
   "execution_count": 12,
   "id": "cd415873",
   "metadata": {},
   "outputs": [],
   "source": [
    "#If we use Try-Except Block"
   ]
  },
  {
   "cell_type": "code",
   "execution_count": 13,
   "id": "a2426121",
   "metadata": {},
   "outputs": [
    {
     "name": "stdout",
     "output_type": "stream",
     "text": [
      "the data in input is not an integer\n"
     ]
    }
   ],
   "source": [
    "try:\n",
    "  x = \"2\" + 2  # Code that might raise an exception\n",
    "except:\n",
    "    print(\"the data in input is not an integer\")\n",
    "  # Code that runs if the exception occurs\n"
   ]
  },
  {
   "cell_type": "code",
   "execution_count": 14,
   "id": "cc5b49b6",
   "metadata": {},
   "outputs": [
    {
     "name": "stdout",
     "output_type": "stream",
     "text": [
      "the data in input is not an integer\n"
     ]
    }
   ],
   "source": [
    "try:\n",
    "  x = \"2\" + 2  # Code that might raise an exception\n",
    "except TypeError:\n",
    "    print(\"the data in input is not an integer\")\n",
    "  # Code that runs if the exception occurs\n",
    "except ValueError:        #It can handle multiple error IF we specify what kind of error is it\n",
    "    print(\"This is value error \")"
   ]
  },
  {
   "cell_type": "code",
   "execution_count": 19,
   "id": "dcfa91cd",
   "metadata": {},
   "outputs": [
    {
     "name": "stdout",
     "output_type": "stream",
     "text": [
      "Please enter a valid numberx\n"
     ]
    },
    {
     "ename": "ValueError",
     "evalue": "invalid literal for int() with base 10: 'x'",
     "output_type": "error",
     "traceback": [
      "\u001b[1;31m---------------------------------------------------------------------------\u001b[0m",
      "\u001b[1;31mValueError\u001b[0m                                Traceback (most recent call last)",
      "Cell \u001b[1;32mIn[19], line 1\u001b[0m\n\u001b[1;32m----> 1\u001b[0m number \u001b[38;5;241m=\u001b[39m \u001b[38;5;28mint\u001b[39m(\u001b[38;5;28minput\u001b[39m(\u001b[38;5;124m\"\u001b[39m\u001b[38;5;124mPlease enter a valid number\u001b[39m\u001b[38;5;124m\"\u001b[39m))\n",
      "\u001b[1;31mValueError\u001b[0m: invalid literal for int() with base 10: 'x'"
     ]
    }
   ],
   "source": [
    "number = int(input(\"Please enter a valid number\"))"
   ]
  },
  {
   "cell_type": "code",
   "execution_count": 20,
   "id": "8db8ae6d",
   "metadata": {},
   "outputs": [
    {
     "name": "stdout",
     "output_type": "stream",
     "text": [
      "Please enter a valid numberX\n",
      "Mantap Salah\n"
     ]
    }
   ],
   "source": [
    "try:\n",
    "    number = int(input(\"Please enter a valid number\"))\n",
    "except:\n",
    "    print(\"Mantap Salah\")"
   ]
  },
  {
   "cell_type": "code",
   "execution_count": 21,
   "id": "5693a3c6",
   "metadata": {},
   "outputs": [
    {
     "data": {
      "text/plain": [
       "3"
      ]
     },
     "execution_count": 21,
     "metadata": {},
     "output_type": "execute_result"
    }
   ],
   "source": [
    "my_list = [1,2,3]\n",
    "\n",
    "my_list[2]"
   ]
  },
  {
   "cell_type": "code",
   "execution_count": 22,
   "id": "43f3c2aa",
   "metadata": {},
   "outputs": [
    {
     "ename": "IndexError",
     "evalue": "list index out of range",
     "output_type": "error",
     "traceback": [
      "\u001b[1;31m---------------------------------------------------------------------------\u001b[0m",
      "\u001b[1;31mIndexError\u001b[0m                                Traceback (most recent call last)",
      "Cell \u001b[1;32mIn[22], line 3\u001b[0m\n\u001b[0;32m      1\u001b[0m my_list \u001b[38;5;241m=\u001b[39m [\u001b[38;5;241m1\u001b[39m,\u001b[38;5;241m2\u001b[39m,\u001b[38;5;241m3\u001b[39m]\n\u001b[1;32m----> 3\u001b[0m my_list[\u001b[38;5;241m3\u001b[39m]\n",
      "\u001b[1;31mIndexError\u001b[0m: list index out of range"
     ]
    }
   ],
   "source": [
    "my_list = [1,2,3]\n",
    "\n",
    "my_list[3]"
   ]
  },
  {
   "cell_type": "code",
   "execution_count": 23,
   "id": "1cfd8572",
   "metadata": {},
   "outputs": [
    {
     "name": "stdout",
     "output_type": "stream",
     "text": [
      "Salah ni\n"
     ]
    }
   ],
   "source": [
    "my_list = [1,2,3]\n",
    "\n",
    "try:\n",
    "    my_list[3]\n",
    "except:\n",
    "    print(\"Salah ni\")\n",
    "    "
   ]
  },
  {
   "cell_type": "code",
   "execution_count": 24,
   "id": "7ebe793b",
   "metadata": {},
   "outputs": [
    {
     "name": "stdout",
     "output_type": "stream",
     "text": [
      "Please enter a valid numberx\n",
      "This is not a number\n",
      "Thank you for participating\n"
     ]
    }
   ],
   "source": [
    "try:\n",
    "    number = int(input(\"Please enter a valid number\"))\n",
    "except ValueError:\n",
    "    print(\"This is not a number\")\n",
    "else:\n",
    "    print(\"Now this is a number\")\n",
    "finally:\n",
    "    print(\"Thank you for participating\")"
   ]
  },
  {
   "cell_type": "code",
   "execution_count": null,
   "id": "6ddd32b3",
   "metadata": {},
   "outputs": [],
   "source": [
    "# Finally and Else in Exceptions"
   ]
  },
  {
   "cell_type": "code",
   "execution_count": 25,
   "id": "ff0f28e0",
   "metadata": {},
   "outputs": [
    {
     "name": "stdout",
     "output_type": "stream",
     "text": [
      "Please enter a valid number1\n",
      "Now this is a number\n",
      "Thank you for participating\n"
     ]
    }
   ],
   "source": [
    "try:\n",
    "    number = int(input(\"Please enter a valid number\"))\n",
    "except ValueError:\n",
    "    print(\"This is not a number\")\n",
    "else:\n",
    "    print(\"Now this is a number\")\n",
    "finally:   # implement no matter what!!\n",
    "    print(\"Thank you for participating\")"
   ]
  },
  {
   "cell_type": "code",
   "execution_count": 26,
   "id": "a10c1132",
   "metadata": {},
   "outputs": [],
   "source": [
    "# See the application did not crash even there is an error"
   ]
  },
  {
   "cell_type": "code",
   "execution_count": 27,
   "id": "b6e6c832",
   "metadata": {},
   "outputs": [],
   "source": [
    "#Multiple Except Blocks"
   ]
  },
  {
   "cell_type": "code",
   "execution_count": 28,
   "id": "fcd8dc22",
   "metadata": {},
   "outputs": [
    {
     "name": "stdout",
     "output_type": "stream",
     "text": [
      "Enter a number: 10\n",
      "0.1\n"
     ]
    }
   ],
   "source": [
    "try:\n",
    "    user_input = input(\"Enter a number: \")\n",
    "    result = 1 / int(user_input)\n",
    "    print(result)\n",
    "except ValueError:\n",
    "    print(\"Please enter a valid integer.\")\n",
    "except ZeroDivisionError:\n",
    "    print(\"Division by zero is not allowed.\")"
   ]
  },
  {
   "cell_type": "code",
   "execution_count": 29,
   "id": "adaa9342",
   "metadata": {},
   "outputs": [
    {
     "name": "stdout",
     "output_type": "stream",
     "text": [
      "Enter a number: -20\n",
      "-0.05\n"
     ]
    }
   ],
   "source": [
    "try:\n",
    "    user_input = input(\"Enter a number: \")\n",
    "    result = 1 / int(user_input)\n",
    "    print(result)\n",
    "except ValueError:\n",
    "    print(\"Please enter a valid integer.\")\n",
    "except ZeroDivisionError:\n",
    "    print(\"Division by zero is not allowed.\")"
   ]
  },
  {
   "cell_type": "code",
   "execution_count": 30,
   "id": "f909bfc3",
   "metadata": {},
   "outputs": [
    {
     "name": "stdout",
     "output_type": "stream",
     "text": [
      "Enter a number: 0\n",
      "Division by zero is not allowed.\n"
     ]
    }
   ],
   "source": [
    "try:\n",
    "    user_input = input(\"Enter a number: \")\n",
    "    result = 1 / int(user_input)\n",
    "    print(result)\n",
    "except ValueError:\n",
    "    print(\"Please enter a valid integer.\")\n",
    "except ZeroDivisionError:\n",
    "    print(\"Division by zero is not allowed.\")"
   ]
  },
  {
   "cell_type": "code",
   "execution_count": 1,
   "id": "61653e88",
   "metadata": {},
   "outputs": [],
   "source": [
    "# Python Exception Handling Exercise – Calculator\n",
    "\n",
    "# Objective:\n",
    "# Create a simple calculator program in Python that uses exception handling to \n",
    "# deal with invalid input and division by zero errors\n",
    "\n",
    "# Instructions:\n",
    "# Write a function named simple_calculator that takes no parameters.\n",
    "# Inside the function, prompt the user to enter two numbers and a mathematical \n",
    "# operation (addition, subtraction, multiplication, or division).\n",
    "# Perform the chosen operation and display the result.\n",
    "# Use exception handling to catch the following errors:\n",
    "# ValueError: if the user does not enter a number.\n",
    "# ZeroDivisionError: if the user tries to divide by zero.\n",
    "# Exception: a general exception to catch any other type of error.\n",
    "# Provide a meaningful error message for each exception and allow the user to \n",
    "# retry entering the information."
   ]
  },
  {
   "cell_type": "code",
   "execution_count": 3,
   "id": "ff8b1b19",
   "metadata": {},
   "outputs": [
    {
     "name": "stdout",
     "output_type": "stream",
     "text": [
      "Enter an operation (+ - * /): +\n",
      "Enter the 1st number: 2.123\n",
      "Enter the 2nd number: 4.345\n",
      "6.468\n"
     ]
    }
   ],
   "source": [
    "Calculator = input('Enter an operation (+ - * /): ')\n",
    "num1 = float(input('Enter the 1st number: '))\n",
    "num2 = float(input('Enter the 2nd number: '))\n",
    "\n",
    "if Calculator == '+':\n",
    "    result = num1+num2\n",
    "    print(round(result, 3))\n",
    "elif Calculator == '-':\n",
    "    result = num1-num2\n",
    "    print(round(result, 3))\n",
    "elif Calculator == '*':\n",
    "    result = num1*num2\n",
    "    print(round(result, 3))\n",
    "elif Calculator == '/':\n",
    "    result = num1/num2\n",
    "    print(round(result, 3))\n",
    "\n",
    "else:\n",
    "    print(f\"{Calculator} Syntax Error\")"
   ]
  },
  {
   "cell_type": "code",
   "execution_count": 4,
   "id": "77f37ecf",
   "metadata": {},
   "outputs": [
    {
     "name": "stdout",
     "output_type": "stream",
     "text": [
      "Enter the 1st number: 4.32\n",
      "Enter the 2nd number: 5.767\n",
      "Enter an operation (+ - * /): *\n",
      "24.913\n"
     ]
    }
   ],
   "source": [
    "\n",
    "num1 = float(input('Enter the 1st number: '))\n",
    "num2 = float(input('Enter the 2nd number: '))\n",
    "Calculator = input('Enter an operation (+ - * /): ')\n",
    "\n",
    "if Calculator == '+':\n",
    "    result = num1+num2\n",
    "    print(round(result, 3))\n",
    "elif Calculator == '-':\n",
    "    result = num1-num2\n",
    "    print(round(result, 3))\n",
    "elif Calculator == '*':\n",
    "    result = num1*num2\n",
    "    print(round(result, 3))\n",
    "elif Calculator == '/':\n",
    "    result = num1/num2\n",
    "    print(round(result, 3))\n",
    "\n",
    "else:\n",
    "    print(f\"{Calculator} Syntax Error\")"
   ]
  },
  {
   "cell_type": "code",
   "execution_count": 1,
   "id": "c390cf6a",
   "metadata": {},
   "outputs": [
    {
     "name": "stdout",
     "output_type": "stream",
     "text": [
      "Amar like to eats Chicken\n"
     ]
    }
   ],
   "source": [
    "def Amar_information(name, food):\n",
    "    \n",
    "    print(name + \" like to eats \" + food)\n",
    "    \n",
    "Amar_information('Amar', 'Chicken')"
   ]
  },
  {
   "cell_type": "code",
   "execution_count": null,
   "id": "1f95eacd",
   "metadata": {},
   "outputs": [],
   "source": []
  }
 ],
 "metadata": {
  "kernelspec": {
   "display_name": "Python 3 (ipykernel)",
   "language": "python",
   "name": "python3"
  },
  "language_info": {
   "codemirror_mode": {
    "name": "ipython",
    "version": 3
   },
   "file_extension": ".py",
   "mimetype": "text/x-python",
   "name": "python",
   "nbconvert_exporter": "python",
   "pygments_lexer": "ipython3",
   "version": "3.11.5"
  }
 },
 "nbformat": 4,
 "nbformat_minor": 5
}
