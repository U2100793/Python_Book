{
 "cells": [
  {
   "cell_type": "markdown",
   "id": "1349af2b",
   "metadata": {},
   "source": [
    "# NAME: MUHAMMAD AMAR BUSTARI BIN YUSLAN"
   ]
  },
  {
   "cell_type": "markdown",
   "id": "c962798c",
   "metadata": {},
   "source": [
    "# MATRIC NO: U2100793"
   ]
  },
  {
   "cell_type": "markdown",
   "id": "07ee4122",
   "metadata": {},
   "source": [
    "# QUESTION 1"
   ]
  },
  {
   "cell_type": "code",
   "execution_count": 23,
   "id": "7a308ebf",
   "metadata": {},
   "outputs": [
    {
     "name": "stdout",
     "output_type": "stream",
     "text": [
      "The value of y at t is: 2\n"
     ]
    }
   ],
   "source": [
    "def dydt(t,y):\n",
    "    return(-2*y*t)\n",
    " # Python program to implement Runge Kutta method   # Finds value of y for a given t using step size h\n",
    "# and initial value y0 at t0.\n",
    "\n",
    "\n",
    "def rungekutta(t0, y0, t, h):\n",
    "    \n",
    "        # Count number of iterations using step size or\n",
    "    # step height\n",
    "\n",
    "    \n",
    "    n = int((t-t0/h))\n",
    "   # Iterate for number of iterations\n",
    "  \n",
    "    y = y0\n",
    "    \n",
    "    for i in range(1,n+1):\n",
    "            # Apply Runge Kutta Formulas to find next value of y\n",
    "\n",
    "        k1 = h*dydt(t0, y)\n",
    "        k2 = h*dydt(t0 + 0.5 * h,y + 0.5 * k1)\n",
    "        k3 = h*dydt(t0 + 0.5 * h,y + 0.5 * k2)\n",
    "        k4 = h*dydt(t0 + h, y +k3)\n",
    "  # Update next value of y\n",
    "      \n",
    "        y=y + (1.0/6.0)*(k1 + 2 * k2 + 2 * k3 + k4)\n",
    "     # Update next value of t\n",
    "   \n",
    "        t0 = t0 +h\n",
    "    return y\n",
    "#driver method\n",
    "t0 = 0\n",
    "y = 2\n",
    "t = 0\n",
    "h = 0.2\n",
    "print('The value of y at t is:' , rungekutta(t0, y, t, h))\n",
    "    "
   ]
  },
  {
   "cell_type": "code",
   "execution_count": 35,
   "id": "6ea78581",
   "metadata": {},
   "outputs": [
    {
     "ename": "ImportError",
     "evalue": "cannot import name 'plyplot' from 'matplotlib' (C:\\Users\\Acer\\anaconda3\\Lib\\site-packages\\matplotlib\\__init__.py)",
     "output_type": "error",
     "traceback": [
      "\u001b[1;31m---------------------------------------------------------------------------\u001b[0m",
      "\u001b[1;31mImportError\u001b[0m                               Traceback (most recent call last)",
      "Cell \u001b[1;32mIn[35], line 4\u001b[0m\n\u001b[0;32m      1\u001b[0m \u001b[38;5;28;01mimport\u001b[39;00m \u001b[38;5;21;01mnumpy\u001b[39;00m \u001b[38;5;28;01mas\u001b[39;00m \u001b[38;5;21;01mnp\u001b[39;00m\n\u001b[0;32m      2\u001b[0m \u001b[38;5;28;01mimport\u001b[39;00m \u001b[38;5;21;01mscipy\u001b[39;00m \u001b[38;5;28;01mas\u001b[39;00m \u001b[38;5;21;01msc\u001b[39;00m\n\u001b[1;32m----> 4\u001b[0m \u001b[38;5;28;01mfrom\u001b[39;00m \u001b[38;5;21;01mmatplotlib\u001b[39;00m \u001b[38;5;28;01mimport\u001b[39;00m plyplot \u001b[38;5;28;01mas\u001b[39;00m plt\n\u001b[0;32m      6\u001b[0m \u001b[38;5;28;01mdef\u001b[39;00m \u001b[38;5;21mdydt\u001b[39m(t,y):\n\u001b[0;32m      7\u001b[0m     \u001b[38;5;28;01mreturn\u001b[39;00m(\u001b[38;5;241m-\u001b[39m\u001b[38;5;241m2\u001b[39m\u001b[38;5;241m*\u001b[39my\u001b[38;5;241m*\u001b[39mt)\n",
      "\u001b[1;31mImportError\u001b[0m: cannot import name 'plyplot' from 'matplotlib' (C:\\Users\\Acer\\anaconda3\\Lib\\site-packages\\matplotlib\\__init__.py)"
     ]
    }
   ],
   "source": [
    "from matplotlib import plyplot as plt\n",
    "\n",
    "def dydt(t,y):\n",
    "    return(-2*y*t)\n",
    " # Python program to implement Runge Kutta method   # Finds value of y for a given t using step size h\n",
    "# and initial value y0 at t0.\n",
    "\n",
    "\n",
    "def rungekutta(t0, y0, t, h):\n",
    "    \n",
    "        # Count number of iterations using step size or\n",
    "    # step height\n",
    "\n",
    "    \n",
    "    n = int((t-t0/h))\n",
    "   # Iterate for number of iterations\n",
    "  \n",
    "    y = y0\n",
    "    \n",
    "    for i in range(1,n+1):\n",
    "            # Apply Runge Kutta Formulas to find next value of y\n",
    "\n",
    "        k1 = h*dydt(t0, y)\n",
    "        k2 = h*dydt(t0 + 0.5 * h,y + 0.5 * k1)\n",
    "        k3 = h*dydt(t0 + 0.5 * h,y + 0.5 * k2)\n",
    "        k4 = h*dydt(t0 + h, y +k3)\n",
    "  # Update next value of y\n",
    "      \n",
    "        y=y + (1.0/6.0)*(k1 + 2 * k2 + 2 * k3 + k4)\n",
    "     # Update next value of t\n",
    "   \n",
    "        t0 = t0 +h\n",
    "    return y\n",
    "#driver method\n",
    "t0 = 0\n",
    "y = 2\n",
    "t = 0\n",
    "h = 0.2\n",
    "return dydt\n",
    "\n",
    "plt.figure()\n",
    "plt.plot(t,y)\n",
    "\n",
    "plt.title('y(t) vs t')\n",
    "plt.xlabel('t values')\n",
    "plt.ylabel('y(t) values')"
   ]
  },
  {
   "cell_type": "markdown",
   "id": "cc666cbf",
   "metadata": {},
   "source": [
    "# QUESTION 2"
   ]
  },
  {
   "cell_type": "code",
   "execution_count": 2,
   "id": "6b2a8ef9",
   "metadata": {},
   "outputs": [
    {
     "name": "stdout",
     "output_type": "stream",
     "text": [
      "[[2 4 6]\n",
      " [5 3 2]\n",
      " [7 8 9]]\n"
     ]
    }
   ],
   "source": [
    "import numpy as np\n",
    "import scipy as sc \n",
    "\n",
    "A = np.array([[2,4,6],[5,3,2],[7,8,9]])\n",
    "\n",
    "print(A)"
   ]
  },
  {
   "cell_type": "code",
   "execution_count": 4,
   "id": "d68923db",
   "metadata": {},
   "outputs": [
    {
     "name": "stdout",
     "output_type": "stream",
     "text": [
      "[[18]\n",
      " [13]\n",
      " [20]]\n"
     ]
    }
   ],
   "source": [
    "B = np.array([[18],[13],[20]])\n",
    "\n",
    "print(B)"
   ]
  },
  {
   "cell_type": "code",
   "execution_count": 11,
   "id": "57e8e895",
   "metadata": {},
   "outputs": [
    {
     "name": "stdout",
     "output_type": "stream",
     "text": [
      "[[ 12.83333333]\n",
      " [-29.16666667]\n",
      " [ 18.16666667]]\n"
     ]
    }
   ],
   "source": [
    "C = np.linalg.solve(A,B)\n",
    "\n",
    "print(C)"
   ]
  },
  {
   "cell_type": "code",
   "execution_count": 15,
   "id": "2ee3da5c",
   "metadata": {},
   "outputs": [],
   "source": []
  },
  {
   "cell_type": "markdown",
   "id": "8593faa4",
   "metadata": {},
   "source": [
    "# Question 3"
   ]
  },
  {
   "cell_type": "code",
   "execution_count": 48,
   "id": "7ef06f2e",
   "metadata": {},
   "outputs": [
    {
     "ename": "TypeError",
     "evalue": "unhashable type: 'list'",
     "output_type": "error",
     "traceback": [
      "\u001b[1;31m---------------------------------------------------------------------------\u001b[0m",
      "\u001b[1;31mTypeError\u001b[0m                                 Traceback (most recent call last)",
      "Cell \u001b[1;32mIn[48], line 6\u001b[0m\n\u001b[0;32m      3\u001b[0m api_url \u001b[38;5;241m=\u001b[39m \u001b[38;5;124m'\u001b[39m\u001b[38;5;124mhttps://api.open-meteo.com/v1/forecast?latitude=2.5&longitude=112.5&hourly=temperature_2m&timezone=Asia\u001b[39m\u001b[38;5;132;01m%2F\u001b[39;00m\u001b[38;5;124mSingapore&forecast_days=1\u001b[39m\u001b[38;5;124m'\u001b[39m\n\u001b[0;32m      4\u001b[0m forecast_data \u001b[38;5;241m=\u001b[39m response\u001b[38;5;241m.\u001b[39mjson()\n\u001b[1;32m----> 6\u001b[0m forecastdays \u001b[38;5;241m=\u001b[39m {[\u001b[38;5;124m'\u001b[39m\u001b[38;5;124mforecast\u001b[39m\u001b[38;5;124m'\u001b[39m] \u001b[38;5;28;01mfor\u001b[39;00m days \u001b[38;5;129;01min\u001b[39;00m forecast_data}\n\u001b[0;32m      8\u001b[0m forecast_days \u001b[38;5;241m=\u001b[39m \u001b[38;5;28minput\u001b[39m(\u001b[38;5;124m'\u001b[39m\u001b[38;5;124mEnter the number of days\u001b[39m\u001b[38;5;124m'\u001b[39m)\n\u001b[0;32m     10\u001b[0m days \u001b[38;5;241m=\u001b[39m forecast_data\u001b[38;5;241m.\u001b[39mget(forecastdays\u001b[38;5;241m.\u001b[39mtitle())\n",
      "Cell \u001b[1;32mIn[48], line 6\u001b[0m, in \u001b[0;36m<setcomp>\u001b[1;34m(.0)\u001b[0m\n\u001b[0;32m      3\u001b[0m api_url \u001b[38;5;241m=\u001b[39m \u001b[38;5;124m'\u001b[39m\u001b[38;5;124mhttps://api.open-meteo.com/v1/forecast?latitude=2.5&longitude=112.5&hourly=temperature_2m&timezone=Asia\u001b[39m\u001b[38;5;132;01m%2F\u001b[39;00m\u001b[38;5;124mSingapore&forecast_days=1\u001b[39m\u001b[38;5;124m'\u001b[39m\n\u001b[0;32m      4\u001b[0m forecast_data \u001b[38;5;241m=\u001b[39m response\u001b[38;5;241m.\u001b[39mjson()\n\u001b[1;32m----> 6\u001b[0m forecastdays \u001b[38;5;241m=\u001b[39m {[\u001b[38;5;124m'\u001b[39m\u001b[38;5;124mforecast\u001b[39m\u001b[38;5;124m'\u001b[39m] \u001b[38;5;28;01mfor\u001b[39;00m days \u001b[38;5;129;01min\u001b[39;00m forecast_data}\n\u001b[0;32m      8\u001b[0m forecast_days \u001b[38;5;241m=\u001b[39m \u001b[38;5;28minput\u001b[39m(\u001b[38;5;124m'\u001b[39m\u001b[38;5;124mEnter the number of days\u001b[39m\u001b[38;5;124m'\u001b[39m)\n\u001b[0;32m     10\u001b[0m days \u001b[38;5;241m=\u001b[39m forecast_data\u001b[38;5;241m.\u001b[39mget(forecastdays\u001b[38;5;241m.\u001b[39mtitle())\n",
      "\u001b[1;31mTypeError\u001b[0m: unhashable type: 'list'"
     ]
    }
   ],
   "source": [
    "import requests\n",
    "\n",
    "api_url = 'https://api.open-meteo.com/v1/forecast?latitude=2.5&longitude=112.5&hourly=temperature_2m&timezone=Asia%2FSingapore&forecast_days=1'\n",
    "forecast_data = response.json()\n",
    "\n",
    "forecastdays = {['forecast'] for days in forecast_data}\n",
    "\n",
    "forecast_days = input('Enter the number of days')\n",
    "\n",
    "days = forecast_data.get(forecastdays.title())\n",
    "\n",
    "if days is range(1,16):\n",
    "    print('the range of days should be less than 16 days')\n",
    "else:\n",
    "    print(f\"{forecast_days} is not found in the data.\")"
   ]
  },
  {
   "cell_type": "code",
   "execution_count": null,
   "id": "f04436b9",
   "metadata": {},
   "outputs": [],
   "source": []
  }
 ],
 "metadata": {
  "kernelspec": {
   "display_name": "Python 3 (ipykernel)",
   "language": "python",
   "name": "python3"
  },
  "language_info": {
   "codemirror_mode": {
    "name": "ipython",
    "version": 3
   },
   "file_extension": ".py",
   "mimetype": "text/x-python",
   "name": "python",
   "nbconvert_exporter": "python",
   "pygments_lexer": "ipython3",
   "version": "3.11.5"
  }
 },
 "nbformat": 4,
 "nbformat_minor": 5
}
