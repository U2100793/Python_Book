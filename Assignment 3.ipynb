{
 "cells": [
  {
   "cell_type": "code",
   "execution_count": 1,
   "id": "6ae4ded4",
   "metadata": {},
   "outputs": [],
   "source": [
    "# Python Exception Handling Exercise – Calculator"
   ]
  },
  {
   "cell_type": "code",
   "execution_count": 7,
   "id": "680fb3bf",
   "metadata": {},
   "outputs": [
    {
     "name": "stdout",
     "output_type": "stream",
     "text": [
      "Enter a number: 60\n",
      "Enter the 2nd number: a\n",
      "Invalid input. Please enter a number\n",
      "Enter a number: 5\n",
      "Enter the 2nd number: 5\n",
      "Enter an operation (+,-,*,/): *\n",
      "The result is: 25.0\n"
     ]
    }
   ],
   "source": [
    "def simple_calculator():\n",
    "    while True:\n",
    "        try:\n",
    "            \n",
    "            num1 = float(input(\"Enter a number: \"))\n",
    "            num2 = float(input(\"Enter the 2nd number: \"))\n",
    "            operation = input(\"Enter an operation (+,-,*,/): \")\n",
    "            \n",
    "            if operation == '+':\n",
    "                result = num1+num2\n",
    "            elif operation == '-':\n",
    "                result = num1-num2\n",
    "            elif operation == '*':\n",
    "                result = num1*num2\n",
    "            elif opreation == '/':\n",
    "                result = num1/num2\n",
    "                \n",
    "            else:\n",
    "                print(\"Unvalid operation. Please choose +,-,* or /.\")\n",
    "                continue\n",
    "                \n",
    "            print(f\"The result is: {result}\")\n",
    "            break\n",
    "                \n",
    "        except ValueError:\n",
    "            print(\"Invalid input. Please enter a number\")\n",
    "        except ZeroDivisionError:\n",
    "            print(\"Syntax Error, Cannot divide by zero\")\n",
    "        except Exception as e:\n",
    "            print(f\"An unexpected error occured: {e}\")\n",
    "            \n",
    "simple_calculator()"
   ]
  },
  {
   "cell_type": "code",
   "execution_count": null,
   "id": "38765787",
   "metadata": {},
   "outputs": [],
   "source": []
  }
 ],
 "metadata": {
  "kernelspec": {
   "display_name": "Python 3 (ipykernel)",
   "language": "python",
   "name": "python3"
  },
  "language_info": {
   "codemirror_mode": {
    "name": "ipython",
    "version": 3
   },
   "file_extension": ".py",
   "mimetype": "text/x-python",
   "name": "python",
   "nbconvert_exporter": "python",
   "pygments_lexer": "ipython3",
   "version": "3.11.5"
  }
 },
 "nbformat": 4,
 "nbformat_minor": 5
}
