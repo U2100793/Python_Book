{
 "cells": [
  {
   "cell_type": "code",
   "execution_count": 1,
   "id": "a9670aa5",
   "metadata": {},
   "outputs": [
    {
     "name": "stdout",
     "output_type": "stream",
     "text": [
      "Enter the name of a subject: Amar\n",
      "The subject is not available\n"
     ]
    }
   ],
   "source": [
    "# Predefined list of subjects\n",
    "subjects = [\"Software\", \"Chemistry\", \"English\", \"Arabic\"]\n",
    "\n",
    "# Function to check if the subject is available\n",
    "def check_subject_availability(user_subject):\n",
    "    if user_subject in subjects:\n",
    "        return \"The subject is available\"\n",
    "    else:\n",
    "        return \"The subject is not available\"\n",
    "\n",
    "# Prompt the user to enter the subject name\n",
    "user_subject = input(\"Enter the name of a subject: \")\n",
    "\n",
    "# Check and display the result\n",
    "result = check_subject_availability(user_subject)\n",
    "print(result)"
   ]
  },
  {
   "cell_type": "code",
   "execution_count": 4,
   "id": "4d8d63cc",
   "metadata": {},
   "outputs": [],
   "source": [
    "def simple_calculator():\n",
    "    try: \n",
    "        user_input1 = int(input(\"Enter the first number:\"))\n",
    "    except ValueError:\n",
    "        print(\"Please enter a valid number.\")\n",
    "        \n",
    "    try:\n",
    "        user_input2 = int(input(\"Enter the second number:\"))\n",
    "    except ValueError:\n",
    "        print(\"Please enter a valid number.\")\n",
    "        \n",
    "    try:\n",
    "        user_input3 = input(\"Please choose a mathematical operation: addition, subtraction, multiplication or division.\")\n",
    "        if user_input3==\"addition\":\n",
    "            result=user_input1+user_input2\n",
    "            \n",
    "        elif user_input3==\"subtraction\":\n",
    "            result=user_input1-user_input2\n",
    "            \n",
    "        elif user_input3==\"multiplication\":\n",
    "            result=user_input1*user_input2\n",
    "            \n",
    "        elif user_input3==\"division\":\n",
    "            try:\n",
    "                result=user_input1/user_input2\n",
    "            except ZeroDivisionError:\n",
    "                print(\"Division by zero is not allowed.\")\n",
    "        return result\n",
    "    except:\n",
    "        print(\"Please enter a valid mathematical operation.\")"
   ]
  },
  {
   "cell_type": "code",
   "execution_count": 5,
   "id": "84fc6408",
   "metadata": {},
   "outputs": [
    {
     "name": "stdout",
     "output_type": "stream",
     "text": [
      "Enter the first number:1\n",
      "Enter the second number:3\n",
      "Please choose a mathematical operation: addition, subtraction, multiplication or division.addition\n",
      "4\n"
     ]
    }
   ],
   "source": [
    "print(simple_calculator())"
   ]
  },
  {
   "cell_type": "code",
   "execution_count": 6,
   "id": "e668ec56",
   "metadata": {},
   "outputs": [
    {
     "name": "stdout",
     "output_type": "stream",
     "text": [
      "Enter the name of a subject: English\n"
     ]
    }
   ],
   "source": [
    "# Predefined list of subjects\n",
    "subjects = [\"Software\", \"Chemistry\", \"English\", \"Arabic\"]\n",
    "\n",
    "# Function to check if the subject is available\n",
    "def check_subject_availability(user_subject):\n",
    "    if user_subject in subjects:\n",
    "        return \"The subject is available\"\n",
    "    else:\n",
    "        return \"The subject is not available\"\n",
    "\n",
    "# Prompt the user to enter the subject name\n",
    "user_subject = input(\"Enter the name of a subject: \")"
   ]
  },
  {
   "cell_type": "code",
   "execution_count": 7,
   "id": "06186196",
   "metadata": {},
   "outputs": [
    {
     "name": "stdout",
     "output_type": "stream",
     "text": [
      "The subject is not available\n"
     ]
    }
   ],
   "source": [
    "print(result)"
   ]
  },
  {
   "cell_type": "code",
   "execution_count": null,
   "id": "4f0adc7c",
   "metadata": {},
   "outputs": [],
   "source": []
  }
 ],
 "metadata": {
  "kernelspec": {
   "display_name": "Python 3 (ipykernel)",
   "language": "python",
   "name": "python3"
  },
  "language_info": {
   "codemirror_mode": {
    "name": "ipython",
    "version": 3
   },
   "file_extension": ".py",
   "mimetype": "text/x-python",
   "name": "python",
   "nbconvert_exporter": "python",
   "pygments_lexer": "ipython3",
   "version": "3.11.5"
  }
 },
 "nbformat": 4,
 "nbformat_minor": 5
}
