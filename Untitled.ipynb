{
 "cells": [
  {
   "cell_type": "code",
   "execution_count": 10,
   "id": "211aecfe",
   "metadata": {},
   "outputs": [
    {
     "name": "stdout",
     "output_type": "stream",
     "text": [
      "Collecting fluidsNote: you may need to restart the kernel to use updated packages.\n",
      "\n",
      "  Obtaining dependency information for fluids from https://files.pythonhosted.org/packages/d4/ca/803bddb96af07a8bac8d194b4699f6492dab141e1d593adf0ff611f142d5/fluids-1.0.25-py3-none-any.whl.metadata\n",
      "  Downloading fluids-1.0.25-py3-none-any.whl.metadata (7.1 kB)\n",
      "Requirement already satisfied: numpy>=1.5.0 in c:\\users\\acer\\anaconda3\\lib\\site-packages (from fluids) (1.24.3)\n",
      "Requirement already satisfied: scipy>=0.9.0 in c:\\users\\acer\\anaconda3\\lib\\site-packages (from fluids) (1.11.1)\n",
      "Downloading fluids-1.0.25-py3-none-any.whl (1.5 MB)\n",
      "   ---------------------------------------- 0.0/1.5 MB ? eta -:--:--\n",
      "   ---------------------------------------- 0.0/1.5 MB ? eta -:--:--\n",
      "   ---------------------------------------- 0.0/1.5 MB ? eta -:--:--\n",
      "   ---------------------------------------- 0.0/1.5 MB ? eta -:--:--\n",
      "   ---------------------------------------- 0.0/1.5 MB ? eta -:--:--\n",
      "   ---------------------------------------- 0.0/1.5 MB ? eta -:--:--\n",
      "    --------------------------------------- 0.0/1.5 MB 100.4 kB/s eta 0:00:15\n",
      "    --------------------------------------- 0.0/1.5 MB 100.4 kB/s eta 0:00:15\n",
      "    --------------------------------------- 0.0/1.5 MB 100.4 kB/s eta 0:00:15\n",
      "   - -------------------------------------- 0.1/1.5 MB 163.8 kB/s eta 0:00:09\n",
      "   -- ------------------------------------- 0.1/1.5 MB 233.8 kB/s eta 0:00:07\n",
      "   --- ------------------------------------ 0.1/1.5 MB 240.2 kB/s eta 0:00:06\n",
      "   --- ------------------------------------ 0.1/1.5 MB 240.2 kB/s eta 0:00:06\n",
      "   ---- ----------------------------------- 0.2/1.5 MB 275.8 kB/s eta 0:00:05\n",
      "   ------ --------------------------------- 0.3/1.5 MB 365.7 kB/s eta 0:00:04\n",
      "   ------ --------------------------------- 0.3/1.5 MB 365.7 kB/s eta 0:00:04\n",
      "   ------- -------------------------------- 0.3/1.5 MB 347.6 kB/s eta 0:00:04\n",
      "   -------- ------------------------------- 0.3/1.5 MB 372.6 kB/s eta 0:00:04\n",
      "   --------- ------------------------------ 0.4/1.5 MB 424.6 kB/s eta 0:00:03\n",
      "   ---------- ----------------------------- 0.4/1.5 MB 433.0 kB/s eta 0:00:03\n",
      "   ---------- ----------------------------- 0.4/1.5 MB 407.9 kB/s eta 0:00:03\n",
      "   ----------- ---------------------------- 0.4/1.5 MB 426.2 kB/s eta 0:00:03\n",
      "   ----------------- ---------------------- 0.7/1.5 MB 597.9 kB/s eta 0:00:02\n",
      "   ----------------- ---------------------- 0.7/1.5 MB 597.9 kB/s eta 0:00:02\n",
      "   ------------------- -------------------- 0.7/1.5 MB 629.1 kB/s eta 0:00:02\n",
      "   --------------------- ------------------ 0.8/1.5 MB 663.6 kB/s eta 0:00:02\n",
      "   -------------------------- ------------- 1.0/1.5 MB 800.8 kB/s eta 0:00:01\n",
      "   ------------------------------- -------- 1.2/1.5 MB 923.7 kB/s eta 0:00:01\n",
      "   ----------------------------------- ---- 1.4/1.5 MB 986.4 kB/s eta 0:00:01\n",
      "   ---------------------------------------  1.5/1.5 MB 1.1 MB/s eta 0:00:01\n",
      "   ---------------------------------------- 1.5/1.5 MB 1.0 MB/s eta 0:00:00\n",
      "Installing collected packages: fluids\n",
      "Successfully installed fluids-1.0.25\n"
     ]
    }
   ],
   "source": [
    "pip install fluids"
   ]
  },
  {
   "cell_type": "code",
   "execution_count": 1,
   "id": "d972d44b",
   "metadata": {},
   "outputs": [
    {
     "ename": "ImportError",
     "evalue": "The unit handling in fluids requires the installation of the package pint, available on pypi or from https://github.com/hgrecco/pint",
     "output_type": "error",
     "traceback": [
      "\u001b[1;31m---------------------------------------------------------------------------\u001b[0m",
      "\u001b[1;31mModuleNotFoundError\u001b[0m                       Traceback (most recent call last)",
      "File \u001b[1;32m~\\anaconda3\\Lib\\site-packages\\fluids\\units.py:46\u001b[0m\n\u001b[0;32m     45\u001b[0m \u001b[38;5;28;01mtry\u001b[39;00m:\n\u001b[1;32m---> 46\u001b[0m     \u001b[38;5;28;01mfrom\u001b[39;00m \u001b[38;5;21;01mpint\u001b[39;00m \u001b[38;5;28;01mimport\u001b[39;00m _DEFAULT_REGISTRY \u001b[38;5;28;01mas\u001b[39;00m u\n\u001b[0;32m     47\u001b[0m     \u001b[38;5;28;01mfrom\u001b[39;00m \u001b[38;5;21;01mpint\u001b[39;00m \u001b[38;5;28;01mimport\u001b[39;00m DimensionalityError\n",
      "\u001b[1;31mModuleNotFoundError\u001b[0m: No module named 'pint'",
      "\nDuring handling of the above exception, another exception occurred:\n",
      "\u001b[1;31mImportError\u001b[0m                               Traceback (most recent call last)",
      "Cell \u001b[1;32mIn[1], line 1\u001b[0m\n\u001b[1;32m----> 1\u001b[0m \u001b[38;5;28;01mfrom\u001b[39;00m \u001b[38;5;21;01mfluids\u001b[39;00m\u001b[38;5;21;01m.\u001b[39;00m\u001b[38;5;21;01munits\u001b[39;00m \u001b[38;5;28;01mimport\u001b[39;00m \u001b[38;5;241m*\u001b[39m\n\u001b[0;32m      2\u001b[0m \u001b[38;5;28;01mfrom\u001b[39;00m \u001b[38;5;21;01mmath\u001b[39;00m \u001b[38;5;28;01mimport\u001b[39;00m pi\n\u001b[0;32m      3\u001b[0m L \u001b[38;5;241m=\u001b[39m (\u001b[38;5;241m30\u001b[39m\u001b[38;5;241m+\u001b[39m\u001b[38;5;241m100\u001b[39m\u001b[38;5;241m+\u001b[39m\u001b[38;5;241m70\u001b[39m\u001b[38;5;241m+\u001b[39m\u001b[38;5;241m300\u001b[39m)\u001b[38;5;241m*\u001b[39mu\u001b[38;5;241m.\u001b[39mfoot\n",
      "File \u001b[1;32m~\\anaconda3\\Lib\\site-packages\\fluids\\units.py:50\u001b[0m\n\u001b[0;32m     47\u001b[0m     \u001b[38;5;28;01mfrom\u001b[39;00m \u001b[38;5;21;01mpint\u001b[39;00m \u001b[38;5;28;01mimport\u001b[39;00m DimensionalityError\n\u001b[0;32m     49\u001b[0m \u001b[38;5;28;01mexcept\u001b[39;00m \u001b[38;5;167;01mImportError\u001b[39;00m: \u001b[38;5;66;03m# pragma: no cover\u001b[39;00m\n\u001b[1;32m---> 50\u001b[0m     \u001b[38;5;28;01mraise\u001b[39;00m \u001b[38;5;167;01mImportError\u001b[39;00m(\u001b[38;5;124m'\u001b[39m\u001b[38;5;124mThe unit handling in fluids requires the installation \u001b[39m\u001b[38;5;124m'\u001b[39m\n\u001b[0;32m     51\u001b[0m                       \u001b[38;5;124m'\u001b[39m\u001b[38;5;124mof the package pint, available on pypi or from \u001b[39m\u001b[38;5;124m'\u001b[39m\n\u001b[0;32m     52\u001b[0m                       \u001b[38;5;124m'\u001b[39m\u001b[38;5;124mhttps://github.com/hgrecco/pint\u001b[39m\u001b[38;5;124m'\u001b[39m)\n\u001b[0;32m     55\u001b[0m \u001b[38;5;124;03m\"\"\"See fluids.units.rst for documentation for this module.\u001b[39;00m\n\u001b[0;32m     56\u001b[0m \u001b[38;5;124;03m\"\"\"\u001b[39;00m\n\u001b[0;32m     58\u001b[0m \u001b[38;5;28;01mtry\u001b[39;00m:\n",
      "\u001b[1;31mImportError\u001b[0m: The unit handling in fluids requires the installation of the package pint, available on pypi or from https://github.com/hgrecco/pint"
     ]
    }
   ],
   "source": [
    "from fluids.units import *\n",
    "from math import pi\n",
    "L = (30+100+70+300)*u.foot\n",
    "dH = 400*u.foot\n",
    "efficiency = 0.7\n",
    "\n",
    "Q = 100*u.gallon/u.min\n",
    "mu = 0.95*u.cP\n",
    "rho = 62.298*u.lb/u.ft**3\n",
    "\n",
    "NPS, Di, Do, t = nearest_pipe(Do=3*u.inch, schedule='40')\n",
    "\n",
    "Di_reducer = nearest_pipe(Do=2.5*u.inch, schedule='40')[1]\n",
    "\n",
    "A = 0.25*pi*Di**2\n",
    "v = Q/A\n",
    "Re = rho*v*Di/mu\n",
    "fd = friction_factor(Re=Re, eD=0.0022*u.inch/Di)\n",
    "\n",
    "K_exit = exit_normal()\n",
    "K_gate = K_gate_valve_Crane(D1=Di, D2=Di, angle=0.0*u.degrees)\n",
    "K_elbow = bend_rounded(Di=Di, angle=90*u.degrees, Re=Re, method='Crane standard')\n",
    "K_lift_valve = K_lift_check_valve_Crane(D1=Di_reducer, D2=Di, angled=False)\n",
    "\n",
    "K_tot = K_exit + K_gate + 4*K_elbow + K_lift_valve\n",
    "K_tot += K_from_f(fd=fd, L=L, D=Di)\n",
    "\n",
    "dP = dP_from_K(K=K_tot, rho=rho, V=v) + rho*dH*1*u.gravity\n",
    "dP.to(u.psi), v.to(u.foot/u.s)\n",
    "\n",
    "head = head_from_P(dP, rho).to(u.foot)\n",
    "print('head = %s' %head)\n",
    "power = Q*dP/efficiency\n",
    "print('power = %s' %(power.to(u.hp)))"
   ]
  },
  {
   "cell_type": "code",
   "execution_count": 2,
   "id": "04e4fc54",
   "metadata": {},
   "outputs": [
    {
     "ename": "NameError",
     "evalue": "name 'Cavallini_Smith_Zecchin' is not defined",
     "output_type": "error",
     "traceback": [
      "\u001b[1;31m---------------------------------------------------------------------------\u001b[0m",
      "\u001b[1;31mNameError\u001b[0m                                 Traceback (most recent call last)",
      "Cell \u001b[1;32mIn[2], line 1\u001b[0m\n\u001b[1;32m----> 1\u001b[0m Cavallini_Smith_Zecchin(m\u001b[38;5;241m=\u001b[39m\u001b[38;5;241m1\u001b[39m, x\u001b[38;5;241m=\u001b[39m\u001b[38;5;241m0.4\u001b[39m, D\u001b[38;5;241m=\u001b[39m\u001b[38;5;241m.3\u001b[39m, rhol\u001b[38;5;241m=\u001b[39m\u001b[38;5;241m800\u001b[39m, rhog\u001b[38;5;241m=\u001b[39m\u001b[38;5;241m2.5\u001b[39m, mul\u001b[38;5;241m=\u001b[39m\u001b[38;5;241m1E-5\u001b[39m, mug\u001b[38;5;241m=\u001b[39m\u001b[38;5;241m1E-3\u001b[39m, kl\u001b[38;5;241m=\u001b[39m\u001b[38;5;241m0.6\u001b[39m, Cpl\u001b[38;5;241m=\u001b[39m\u001b[38;5;241m2300\u001b[39m)\n",
      "\u001b[1;31mNameError\u001b[0m: name 'Cavallini_Smith_Zecchin' is not defined"
     ]
    }
   ],
   "source": [
    "Cavallini_Smith_Zecchin(m=1, x=0.4, D=.3, rhol=800, rhog=2.5, mul=1E-5, mug=1E-3, kl=0.6, Cpl=2300)"
   ]
  },
  {
   "cell_type": "code",
   "execution_count": null,
   "id": "a9670aa5",
   "metadata": {},
   "outputs": [],
   "source": []
  }
 ],
 "metadata": {
  "kernelspec": {
   "display_name": "Python 3 (ipykernel)",
   "language": "python",
   "name": "python3"
  },
  "language_info": {
   "codemirror_mode": {
    "name": "ipython",
    "version": 3
   },
   "file_extension": ".py",
   "mimetype": "text/x-python",
   "name": "python",
   "nbconvert_exporter": "python",
   "pygments_lexer": "ipython3",
   "version": "3.11.5"
  }
 },
 "nbformat": 4,
 "nbformat_minor": 5
}
