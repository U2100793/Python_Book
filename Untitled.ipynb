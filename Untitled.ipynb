{
 "cells": [
  {
   "cell_type": "code",
   "execution_count": 1,
   "id": "85f0555a",
   "metadata": {},
   "outputs": [
    {
     "name": "stdout",
     "output_type": "stream",
     "text": [
      "Enter the 1st number: 2\n",
      "Enter the 2nd number: 3\n",
      "Enter an operation (+ - * /): /\n",
      "0.667\n"
     ]
    }
   ],
   "source": [
    "num1 = float(input('Enter the 1st number: '))\n",
    "num2 = float(input('Enter the 2nd number: '))\n",
    "Calculator = input('Enter an operation (+ - * /): ')\n",
    "\n",
    "if Calculator == '+':\n",
    "    result = num1+num2\n",
    "    print(round(result, 3))\n",
    "elif Calculator == '-':\n",
    "    result = num1-num2\n",
    "    print(round(result, 3))\n",
    "elif Calculator == '*':\n",
    "    result = num1*num2\n",
    "    print(round(result, 3))\n",
    "elif Calculator == '/':\n",
    "    result = num1/num2\n",
    "    print(round(result, 3))\n",
    "\n",
    "else:\n",
    "    print(f\"{Calculator} Syntax Error\")"
   ]
  },
  {
   "cell_type": "code",
   "execution_count": null,
   "id": "3b1b8c82",
   "metadata": {},
   "outputs": [],
   "source": [
    "|"
   ]
  }
 ],
 "metadata": {
  "kernelspec": {
   "display_name": "Python 3 (ipykernel)",
   "language": "python",
   "name": "python3"
  },
  "language_info": {
   "codemirror_mode": {
    "name": "ipython",
    "version": 3
   },
   "file_extension": ".py",
   "mimetype": "text/x-python",
   "name": "python",
   "nbconvert_exporter": "python",
   "pygments_lexer": "ipython3",
   "version": "3.11.5"
  }
 },
 "nbformat": 4,
 "nbformat_minor": 5
}
