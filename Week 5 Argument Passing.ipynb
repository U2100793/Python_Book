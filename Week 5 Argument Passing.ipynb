{
 "cells": [
  {
   "cell_type": "code",
   "execution_count": 1,
   "id": "7ac8a896",
   "metadata": {},
   "outputs": [
    {
     "name": "stdout",
     "output_type": "stream",
     "text": [
      "1 x 1 = 1\n",
      "1 x 2 = 2\n",
      "1 x 3 = 3\n",
      "1 x 4 = 4\n",
      "1 x 5 = 5\n",
      "------\n",
      "2 x 1 = 2\n",
      "2 x 2 = 4\n",
      "2 x 3 = 6\n",
      "2 x 4 = 8\n",
      "2 x 5 = 10\n",
      "------\n",
      "3 x 1 = 3\n",
      "3 x 2 = 6\n",
      "3 x 3 = 9\n",
      "3 x 4 = 12\n",
      "3 x 5 = 15\n",
      "------\n",
      "4 x 1 = 4\n",
      "4 x 2 = 8\n",
      "4 x 3 = 12\n",
      "4 x 4 = 16\n",
      "4 x 5 = 20\n",
      "------\n",
      "5 x 1 = 5\n",
      "5 x 2 = 10\n",
      "5 x 3 = 15\n",
      "5 x 4 = 20\n",
      "5 x 5 = 25\n",
      "------\n"
     ]
    }
   ],
   "source": [
    "for i in range(1, 6):\n",
    "    for j in range(1, 6):\n",
    "        print(i, \"x\", j, \"=\", i * j)\n",
    "    print(\"------\")"
   ]
  },
  {
   "cell_type": "code",
   "execution_count": 5,
   "id": "71b71b1c",
   "metadata": {},
   "outputs": [
    {
     "name": "stdout",
     "output_type": "stream",
     "text": [
      "Amar is enrolled in Mathematics class. \n"
     ]
    }
   ],
   "source": [
    "def student_information(class_name, student_name):\n",
    "    \n",
    "    print(student_name + \" is enrolled in \" + class_name, \"class. \")\n",
    "    \n",
    "student_information('Mathematics', 'Amar')"
   ]
  },
  {
   "cell_type": "code",
   "execution_count": 9,
   "id": "42632a6e",
   "metadata": {},
   "outputs": [
    {
     "name": "stdout",
     "output_type": "stream",
     "text": [
      "Amar like to eats Chicken\n"
     ]
    }
   ],
   "source": [
    "def Amar_information(name, food):\n",
    "    \n",
    "    print(name + \" like to eats \" + food)\n",
    "    \n",
    "Amar_information('Amar', 'Chicken')"
   ]
  },
  {
   "cell_type": "code",
   "execution_count": 10,
   "id": "ed0c9de0",
   "metadata": {},
   "outputs": [
    {
     "name": "stdout",
     "output_type": "stream",
     "text": [
      "Mabus like to eats Chicken\n"
     ]
    }
   ],
   "source": [
    "def Amar_information(name, food):\n",
    "    \n",
    "    print(name + \" like to eats \" + food)\n",
    "    \n",
    "Amar_information('Mabus', 'Chicken')"
   ]
  },
  {
   "cell_type": "code",
   "execution_count": 11,
   "id": "6a43496c",
   "metadata": {},
   "outputs": [
    {
     "name": "stdout",
     "output_type": "stream",
     "text": [
      "Student: Emily\n",
      "Enrolled in:\n",
      "- Biology 101\n",
      "- Chemistry 101\n",
      "- Physics 101\n"
     ]
    }
   ],
   "source": [
    "def enroll_in_courses(student_name, *courses):\n",
    "    # Enroll a student in multiple courses.\n",
    "    print(\"Student: \" + student_name)\n",
    "    print(\"Enrolled in:\")\n",
    "    for course in courses:\n",
    "        print(\"- \" + course)\n",
    "# Example of enrolling a student in three different courses:\n",
    "enroll_in_courses('Emily', 'Biology 101', 'Chemistry 101', 'Physics 101')"
   ]
  },
  {
   "cell_type": "code",
   "execution_count": 13,
   "id": "b6d0c056",
   "metadata": {},
   "outputs": [
    {
     "name": "stdout",
     "output_type": "stream",
     "text": [
      "Student: Amar\n",
      "Enrolled in:\n",
      "- Engineering Math\n",
      "- Thermodynamics\n",
      "- Fluids\n"
     ]
    }
   ],
   "source": [
    "def enroll_in_courses(student_name, *courses):\n",
    "  \n",
    "    print(\"Student: \" + student_name)\n",
    "    print(\"Enrolled in:\")\n",
    "    for course in courses:\n",
    "        print(\"- \" + course)\n",
    "\n",
    "enroll_in_courses('Amar', 'Engineering Math', 'Thermodynamics', 'Fluids')"
   ]
  },
  {
   "cell_type": "code",
   "execution_count": 14,
   "id": "ac059448",
   "metadata": {},
   "outputs": [
    {
     "name": "stdout",
     "output_type": "stream",
     "text": [
      "Enrolling Smith with the following details:\n",
      "- Course: Algebra II\n",
      "- Semester: One\n",
      "- Payment Method: Credit Card\n"
     ]
    }
   ],
   "source": [
    "def enroll_student(student_name, **details):\n",
    "     # Enroll a student with additional details.\n",
    "    print(\"Enrolling \" + student_name + \" with the following details:\")\n",
    "    for detail, value in details.items():\n",
    "        print(\"- \" + detail.replace('_', ' ').title() + \": \" + str(value))\n",
    "# Example of enrolling a student with additional details:\n",
    "enroll_student('Smith', course='Algebra II', semester='One', payment_method='Credit Card')"
   ]
  },
  {
   "cell_type": "code",
   "execution_count": 15,
   "id": "ab7f2bd0",
   "metadata": {},
   "outputs": [],
   "source": [
    "def enroll_student(student_name, **details):\n",
    "     # Enroll a student with additional details.\n",
    "    print(\"Enrolling \" + student_name + \" with the following details:\")\n",
    "    for detail, value in details.items():\n",
    "        print(\"- \" + detail.replace('_', ' ').title() + \": \" + str(value))"
   ]
  },
  {
   "cell_type": "code",
   "execution_count": 1,
   "id": "32fa0d34",
   "metadata": {},
   "outputs": [],
   "source": [
    "# Positional argument"
   ]
  },
  {
   "cell_type": "code",
   "execution_count": 2,
   "id": "11ce6581",
   "metadata": {},
   "outputs": [],
   "source": [
    "def greet(name, age, city):\n",
    "    print(f\"Hello, {name}! You are {age} years old and live in {city}.\")"
   ]
  },
  {
   "cell_type": "code",
   "execution_count": 3,
   "id": "a745de39",
   "metadata": {},
   "outputs": [
    {
     "name": "stdout",
     "output_type": "stream",
     "text": [
      "Hello, Alice! You are 30 years old and live in New York.\n"
     ]
    }
   ],
   "source": [
    "greet(\"Alice\", 30, \"New York\")"
   ]
  },
  {
   "cell_type": "code",
   "execution_count": 4,
   "id": "9a3635f7",
   "metadata": {},
   "outputs": [],
   "source": [
    "# Keyword argument"
   ]
  },
  {
   "cell_type": "code",
   "execution_count": 5,
   "id": "a187683a",
   "metadata": {},
   "outputs": [],
   "source": [
    "# Advantages of using keyword arguments include:\n",
    "\n",
    "# Clarity: It enhances the readability of function calls, especially for functions with many parameters, by explicitly stating what each argument represents.\n",
    "# Flexibility: You can pass arguments in any order, which can be particularly useful when some parameters have default values and you want to change only specific ones."
   ]
  },
  {
   "cell_type": "code",
   "execution_count": 6,
   "id": "8d6a4bec",
   "metadata": {},
   "outputs": [],
   "source": [
    "def describe_person(name, age):\n",
    "    print(f\"{name} is {age} years old.\")\n"
   ]
  },
  {
   "cell_type": "code",
   "execution_count": 7,
   "id": "716659ce",
   "metadata": {},
   "outputs": [
    {
     "name": "stdout",
     "output_type": "stream",
     "text": [
      "Alice is 30 years old.\n"
     ]
    }
   ],
   "source": [
    "describe_person(age=30, name=\"Alice\")\n"
   ]
  },
  {
   "cell_type": "code",
   "execution_count": 8,
   "id": "db427036",
   "metadata": {},
   "outputs": [],
   "source": [
    "# You can also mix positional and keyword arguments in Python function calls. However, when using both, positional arguments must come before keyword arguments."
   ]
  },
  {
   "cell_type": "code",
   "execution_count": 9,
   "id": "a71101f5",
   "metadata": {},
   "outputs": [
    {
     "name": "stdout",
     "output_type": "stream",
     "text": [
      "Alice is 30 years old and lives in New York.\n"
     ]
    }
   ],
   "source": [
    "def describe_person(name, age, city):\n",
    "    print(f\"{name} is {age} years old and lives in {city}.\")\n",
    "\n",
    "describe_person(\"Alice\", city=\"New York\", age=30)\n"
   ]
  },
  {
   "cell_type": "code",
   "execution_count": 10,
   "id": "9829df32",
   "metadata": {},
   "outputs": [],
   "source": [
    "# Default Argument\n",
    "\n",
    "# Dah tetapkan awal2 info\n",
    "\n",
    "# so boleh kod banyak2 guna info yg sama"
   ]
  },
  {
   "cell_type": "code",
   "execution_count": 20,
   "id": "1e2540e7",
   "metadata": {},
   "outputs": [
    {
     "name": "stdout",
     "output_type": "stream",
     "text": [
      "Student Name: Lina\n",
      "Enrolled Course: Introduction to Python\n",
      "Student Name: Sara\n",
      "Enrolled Course: Data Structures\n"
     ]
    }
   ],
   "source": [
    "def enroll_student(student_name, course='Introduction to Python'):\n",
    "    # Enroll a student in a course with a default option.\n",
    "     print(\"Student Name: \" + student_name)\n",
    "     print(\"Enrolled Course: \" + course)\n",
    "# Using the default argument for course:\n",
    "enroll_student(student_name='Lina')\n",
    "\n",
    "# Overriding the default argument for course:\n",
    "enroll_student(student_name='Sara', course='Data Structures')"
   ]
  },
  {
   "cell_type": "code",
   "execution_count": 21,
   "id": "8808ced3",
   "metadata": {},
   "outputs": [
    {
     "name": "stdout",
     "output_type": "stream",
     "text": [
      "Student Name: Lina\n",
      "Enrolled Course: Introduction to Python\n",
      "Student Name: Sara\n",
      "Enrolled Course: Data Structures\n"
     ]
    }
   ],
   "source": [
    "def enroll_student(student_name, course='Introduction to Python'):\n",
    "    \n",
    "     print(\"Student Name: \" + student_name)\n",
    "     print(\"Enrolled Course: \" + course)\n",
    "\n",
    "enroll_student(student_name='Lina')\n",
    "\n",
    "enroll_student(student_name='Sara', course='Data Structures')"
   ]
  },
  {
   "cell_type": "code",
   "execution_count": null,
   "id": "0962955f",
   "metadata": {},
   "outputs": [],
   "source": []
  }
 ],
 "metadata": {
  "kernelspec": {
   "display_name": "Python 3 (ipykernel)",
   "language": "python",
   "name": "python3"
  },
  "language_info": {
   "codemirror_mode": {
    "name": "ipython",
    "version": 3
   },
   "file_extension": ".py",
   "mimetype": "text/x-python",
   "name": "python",
   "nbconvert_exporter": "python",
   "pygments_lexer": "ipython3",
   "version": "3.11.5"
  }
 },
 "nbformat": 4,
 "nbformat_minor": 5
}
